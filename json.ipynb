{
 "cells": [
  {
   "cell_type": "code",
   "execution_count": 77,
   "id": "b9fd16ca",
   "metadata": {},
   "outputs": [
    {
     "name": "stdout",
     "output_type": "stream",
     "text": [
      "{'datas': [{'s3id': '5f75ddca787dad53dd5302e1a910e3ef', 'img': '2022_04_27_08_43_07'}, {'s3id': '2014f780d9b353abaa7bc635371f6394', 'img': '2022_04_27_16_16_21'}]}\n"
     ]
    }
   ],
   "source": [
    "import urllib.request, json \n",
    "with urllib.request.urlopen(\"http://timelapsestorage.s3.amazonaws.com/test/test.json\") as url:\n",
    "    data = json.loads(url.read().decode())\n",
    "    print(data)"
   ]
  },
  {
   "cell_type": "code",
   "execution_count": null,
   "id": "14c2ee1e",
   "metadata": {},
   "outputs": [],
   "source": [
    "liste=data['datas']"
   ]
  },
  {
   "cell_type": "code",
   "execution_count": 110,
   "id": "65c5b68b",
   "metadata": {},
   "outputs": [
    {
     "name": "stdout",
     "output_type": "stream",
     "text": [
      "5f75ddca787dad53dd5302e1a910e3ef\n",
      "2014f780d9b353abaa7bc635371f6394\n",
      "['s3://timelapsestorage/5f75ddca787dad53dd5302e1a910e3ef/HIGH/2022_04_27_08_43_07', 's3://timelapsestorage/2014f780d9b353abaa7bc635371f6394/HIGH/2022_04_27_16_16_21']\n"
     ]
    }
   ],
   "source": [
    "url=[]\n",
    "base=\"s3://timelapsestorage/\"\n",
    "for x in range(0,len(liste)):\n",
    "    l=liste[x]\n",
    "    s3id=l['s3id']\n",
    "    print(s3id)\n",
    "    img=l['img']\n",
    "    \n",
    "    link=base+s3id+\"/HIGH/\"+img\n",
    "    url.append(link)\n",
    "print(url) "
   ]
  },
  {
   "cell_type": "code",
   "execution_count": 113,
   "id": "11ef494f",
   "metadata": {},
   "outputs": [
    {
     "name": "stderr",
     "output_type": "stream",
     "text": [
      "Using cache found in C:\\Users\\anis/.cache\\torch\\hub\\ultralytics_yolov5_master\n",
      "YOLOv5  2022-4-27 torch 1.10.0+cu102 CUDA:0 (NVIDIA GeForce GTX 1650 Ti, 4096MiB)\n",
      "\n",
      "Fusing layers... \n",
      "YOLOv5s summary: 213 layers, 7225885 parameters, 0 gradients, 16.5 GFLOPs\n",
      "Adding AutoShape... \n"
     ]
    },
    {
     "data": {
      "application/vnd.jupyter.widget-view+json": {
       "model_id": "0b0a1e3d3f5f4f468345281ecfeea61c",
       "version_major": 2,
       "version_minor": 0
      },
      "text/plain": [
       "  0%|          | 0.00/165k [00:00<?, ?B/s]"
      ]
     },
     "metadata": {},
     "output_type": "display_data"
    },
    {
     "data": {
      "application/vnd.jupyter.widget-view+json": {
       "model_id": "f88fa1af694b4b2fa11360f29a1e6777",
       "version_major": 2,
       "version_minor": 0
      },
      "text/plain": [
       "  0%|          | 0.00/476k [00:00<?, ?B/s]"
      ]
     },
     "metadata": {},
     "output_type": "display_data"
    }
   ],
   "source": [
    "import cv2\n",
    "import torch\n",
    "from PIL import Image\n",
    "import pandas as pd\n",
    "# Model\n",
    "model = torch.hub.load('ultralytics/yolov5', 'yolov5s')\n",
    "\n",
    "# Images\n",
    "for f in 'zidane.jpg', 'bus.jpg':\n",
    "    torch.hub.download_url_to_file('https://ultralytics.com/images/' + f, f)  # download 2 images\n",
    "im1 = Image.open('zidane.jpg')  # PIL image\n",
    "im2 = cv2.imread('bus.jpg')[..., ::-1]  # OpenCV image (BGR to RGB)\n",
    "imgs = [im1, im2]  # batch of images\n",
    "\n",
    "# Inference\n",
    "results = model(imgs, size=640)  # includes NMS"
   ]
  },
  {
   "cell_type": "code",
   "execution_count": 118,
   "id": "3463a2ec",
   "metadata": {},
   "outputs": [],
   "source": [
    "results_list=[] \n",
    "for x in range(0,len(imgs)):\n",
    "   results_list.append(results.pandas().xyxy[x])\n",
    "\n",
    "#concatenate the pandas    \n",
    "finale_result=pd.concat(results_list)\n",
    "helmets=finale_result.loc[finale_result['class'] == 0, 'class'].count()\n",
    "heads=finale_result.loc[finale_result['class'] == 1, 'class'].count()"
   ]
  },
  {
   "cell_type": "code",
   "execution_count": 201,
   "id": "947022dc",
   "metadata": {},
   "outputs": [],
   "source": [
    "df = pd.DataFrame(\n",
    "\n",
    "    {\n",
    "\n",
    "        \"s3id\": [],\n",
    "\n",
    "        \"s3img\": [],\n",
    "\n",
    "        \"nb_heads\": [],\n",
    "\n",
    "        \"nb_helmets\": [],\n",
    "\n",
    "    },\n",
    "    \n",
    ")\n"
   ]
  },
  {
   "cell_type": "code",
   "execution_count": 202,
   "id": "707533fc",
   "metadata": {},
   "outputs": [
    {
     "data": {
      "text/html": [
       "<div>\n",
       "<style scoped>\n",
       "    .dataframe tbody tr th:only-of-type {\n",
       "        vertical-align: middle;\n",
       "    }\n",
       "\n",
       "    .dataframe tbody tr th {\n",
       "        vertical-align: top;\n",
       "    }\n",
       "\n",
       "    .dataframe thead th {\n",
       "        text-align: right;\n",
       "    }\n",
       "</style>\n",
       "<table border=\"1\" class=\"dataframe\">\n",
       "  <thead>\n",
       "    <tr style=\"text-align: right;\">\n",
       "      <th></th>\n",
       "      <th>s3id</th>\n",
       "      <th>s3img</th>\n",
       "      <th>nb_heads</th>\n",
       "      <th>nb_helmets</th>\n",
       "    </tr>\n",
       "  </thead>\n",
       "  <tbody>\n",
       "    <tr>\n",
       "      <th>0</th>\n",
       "      <td>2014f780d9b353abaa7bc635371f6394</td>\n",
       "      <td>2022_04_27_16_16_21</td>\n",
       "      <td>2.0</td>\n",
       "      <td>6.0</td>\n",
       "    </tr>\n",
       "  </tbody>\n",
       "</table>\n",
       "</div>"
      ],
      "text/plain": [
       "                               s3id                s3img  nb_heads  nb_helmets\n",
       "0  2014f780d9b353abaa7bc635371f6394  2022_04_27_16_16_21       2.0         6.0"
      ]
     },
     "execution_count": 202,
     "metadata": {},
     "output_type": "execute_result"
    }
   ],
   "source": [
    "\n",
    "df=df.append({'s3id':s3id,'s3img':img,'nb_heads':heads,'nb_helmets':helmets}, ignore_index=True)\n",
    "df"
   ]
  },
  {
   "cell_type": "code",
   "execution_count": 204,
   "id": "510da1a5",
   "metadata": {},
   "outputs": [
    {
     "data": {
      "text/plain": [
       "'[{\"s3id\":\"2014f780d9b353abaa7bc635371f6394\",\"s3img\":\"2022_04_27_16_16_21\",\"nb_heads\":2.0,\"nb_helmets\":6.0}]'"
      ]
     },
     "execution_count": 204,
     "metadata": {},
     "output_type": "execute_result"
    }
   ],
   "source": [
    "json=df.to_json(orient=\"records\")\n",
    "json"
   ]
  },
  {
   "cell_type": "code",
   "execution_count": 188,
   "id": "5af53ebe",
   "metadata": {},
   "outputs": [
    {
     "ename": "NameError",
     "evalue": "name 'df' is not defined",
     "output_type": "error",
     "traceback": [
      "\u001b[1;31m---------------------------------------------------------------------------\u001b[0m",
      "\u001b[1;31mNameError\u001b[0m                                 Traceback (most recent call last)",
      "\u001b[1;32m<ipython-input-188-4959ee9190de>\u001b[0m in \u001b[0;36m<module>\u001b[1;34m\u001b[0m\n\u001b[0;32m      1\u001b[0m \u001b[1;31m#using the insert function:\u001b[0m\u001b[1;33m\u001b[0m\u001b[1;33m\u001b[0m\u001b[1;33m\u001b[0m\u001b[0m\n\u001b[1;32m----> 2\u001b[1;33m \u001b[0mdf\u001b[0m\u001b[1;33m.\u001b[0m\u001b[0minsert\u001b[0m\u001b[1;33m(\u001b[0m\u001b[0mlocation\u001b[0m\u001b[1;33m,\u001b[0m \u001b[0mcolumn_name\u001b[0m\u001b[1;33m,\u001b[0m \u001b[0mlist_of_values\u001b[0m\u001b[1;33m)\u001b[0m\u001b[1;33m\u001b[0m\u001b[1;33m\u001b[0m\u001b[0m\n\u001b[0m\u001b[0;32m      3\u001b[0m \u001b[1;31m#example\u001b[0m\u001b[1;33m\u001b[0m\u001b[1;33m\u001b[0m\u001b[1;33m\u001b[0m\u001b[0m\n\u001b[0;32m      4\u001b[0m \u001b[0mdf\u001b[0m\u001b[1;33m.\u001b[0m\u001b[0minsert\u001b[0m\u001b[1;33m(\u001b[0m\u001b[1;36m0\u001b[0m\u001b[1;33m,\u001b[0m \u001b[1;34m'new_column'\u001b[0m\u001b[1;33m,\u001b[0m \u001b[1;33m[\u001b[0m\u001b[1;34m'a'\u001b[0m\u001b[1;33m,\u001b[0m\u001b[1;34m'b'\u001b[0m\u001b[1;33m,\u001b[0m\u001b[1;34m'c'\u001b[0m\u001b[1;33m]\u001b[0m\u001b[1;33m)\u001b[0m\u001b[1;33m\u001b[0m\u001b[1;33m\u001b[0m\u001b[0m\n\u001b[0;32m      5\u001b[0m \u001b[1;31m#explanation:\u001b[0m\u001b[1;33m\u001b[0m\u001b[1;33m\u001b[0m\u001b[1;33m\u001b[0m\u001b[0m\n",
      "\u001b[1;31mNameError\u001b[0m: name 'df' is not defined"
     ]
    }
   ],
   "source": [
    "#using the insert function:\n",
    "df.insert(location, column_name, list_of_values) \n",
    "#example\n",
    "df.insert(0, 'new_column', ['a','b','c'])\n",
    "#explanation:\n",
    "#put \"new_column\" as first column of the dataframe\n",
    "#and puts 'a','b' and 'c' as values\n",
    "\n",
    "#using array-like access:\n",
    "df['new_column_name'] = value"
   ]
  },
  {
   "cell_type": "code",
   "execution_count": 159,
   "id": "2cf1ace5",
   "metadata": {},
   "outputs": [
    {
     "data": {
      "text/html": [
       "<div>\n",
       "<style scoped>\n",
       "    .dataframe tbody tr th:only-of-type {\n",
       "        vertical-align: middle;\n",
       "    }\n",
       "\n",
       "    .dataframe tbody tr th {\n",
       "        vertical-align: top;\n",
       "    }\n",
       "\n",
       "    .dataframe thead th {\n",
       "        text-align: right;\n",
       "    }\n",
       "</style>\n",
       "<table border=\"1\" class=\"dataframe\">\n",
       "  <thead>\n",
       "    <tr style=\"text-align: right;\">\n",
       "      <th></th>\n",
       "      <th>s3id</th>\n",
       "      <th>s3img</th>\n",
       "      <th>heads</th>\n",
       "      <th>helmets</th>\n",
       "    </tr>\n",
       "  </thead>\n",
       "  <tbody>\n",
       "  </tbody>\n",
       "</table>\n",
       "</div>"
      ],
      "text/plain": [
       "Empty DataFrame\n",
       "Columns: [s3id, s3img, heads, helmets]\n",
       "Index: []"
      ]
     },
     "execution_count": 159,
     "metadata": {},
     "output_type": "execute_result"
    }
   ],
   "source": [
    "heads=2\n",
    "helmets=0\n",
    "#df1 = df1.append({'s3id': s3id},{'s3img': img})\n",
    "#df1 = df1.append({'s3img': img},ignore_index=True)\n",
    "df1['s3id']=s3id\n",
    "df1"
   ]
  },
  {
   "cell_type": "code",
   "execution_count": 186,
   "id": "5630e789",
   "metadata": {},
   "outputs": [
    {
     "ename": "AttributeError",
     "evalue": "'str' object has no attribute 'dump'",
     "output_type": "error",
     "traceback": [
      "\u001b[1;31m---------------------------------------------------------------------------\u001b[0m",
      "\u001b[1;31mAttributeError\u001b[0m                            Traceback (most recent call last)",
      "\u001b[1;32m<ipython-input-186-22e61d19e5a0>\u001b[0m in \u001b[0;36m<module>\u001b[1;34m\u001b[0m\n\u001b[0;32m      8\u001b[0m }\n\u001b[0;32m      9\u001b[0m \u001b[1;32mwith\u001b[0m \u001b[0mopen\u001b[0m\u001b[1;33m(\u001b[0m\u001b[0mfilename\u001b[0m\u001b[1;33m,\u001b[0m \u001b[1;34m\"w\"\u001b[0m\u001b[1;33m)\u001b[0m \u001b[1;32mas\u001b[0m \u001b[0mout_file\u001b[0m\u001b[1;33m:\u001b[0m\u001b[1;33m\u001b[0m\u001b[1;33m\u001b[0m\u001b[0m\n\u001b[1;32m---> 10\u001b[1;33m     \u001b[0mjson\u001b[0m\u001b[1;33m.\u001b[0m\u001b[0mdump\u001b[0m\u001b[1;33m(\u001b[0m\u001b[0mobj\u001b[0m\u001b[1;33m,\u001b[0m \u001b[0mout_file\u001b[0m\u001b[1;33m)\u001b[0m\u001b[1;33m\u001b[0m\u001b[1;33m\u001b[0m\u001b[0m\n\u001b[0m",
      "\u001b[1;31mAttributeError\u001b[0m: 'str' object has no attribute 'dump'"
     ]
    }
   ],
   "source": [
    "filename = \"test.json\"\n",
    "obj = {\n",
    "    \n",
    "    #\"s3id\": s3id,\n",
    "    #\"s3img\": img,\n",
    "    \"nb_helmets\" : helmets,\n",
    "    \"nb_heads\" : heads\n",
    "}\n",
    "with open(filename, \"w\") as out_file:\n",
    "    json.dump(obj, out_file)"
   ]
  },
  {
   "cell_type": "code",
   "execution_count": 152,
   "id": "f9dd0b1e",
   "metadata": {},
   "outputs": [
    {
     "ename": "NameError",
     "evalue": "name 'df' is not defined",
     "output_type": "error",
     "traceback": [
      "\u001b[1;31m---------------------------------------------------------------------------\u001b[0m",
      "\u001b[1;31mNameError\u001b[0m                                 Traceback (most recent call last)",
      "\u001b[1;32m<ipython-input-152-da5d199c3ae9>\u001b[0m in \u001b[0;36m<module>\u001b[1;34m\u001b[0m\n\u001b[0;32m      1\u001b[0m \u001b[0mtempDf\u001b[0m \u001b[1;33m=\u001b[0m \u001b[0mpd\u001b[0m\u001b[1;33m.\u001b[0m\u001b[0mDataFrame\u001b[0m\u001b[1;33m(\u001b[0m\u001b[0mcolumns\u001b[0m\u001b[1;33m=\u001b[0m\u001b[1;33m[\u001b[0m\u001b[1;34m'PRODUCT'\u001b[0m\u001b[1;33m,\u001b[0m\u001b[1;34m'CAT_ID'\u001b[0m\u001b[1;33m,\u001b[0m\u001b[1;34m'MARKET_ID'\u001b[0m\u001b[1;33m]\u001b[0m\u001b[1;33m)\u001b[0m\u001b[1;33m\u001b[0m\u001b[1;33m\u001b[0m\u001b[0m\n\u001b[1;32m----> 2\u001b[1;33m \u001b[0mtempDf\u001b[0m\u001b[1;33m[\u001b[0m\u001b[1;34m'PRODUCT'\u001b[0m\u001b[1;33m]\u001b[0m \u001b[1;33m=\u001b[0m \u001b[0mdf\u001b[0m\u001b[1;33m[\u001b[0m\u001b[1;34m'PRODUCT'\u001b[0m\u001b[1;33m]\u001b[0m\u001b[1;33m\u001b[0m\u001b[1;33m\u001b[0m\u001b[0m\n\u001b[0m\u001b[0;32m      3\u001b[0m \u001b[0mtempDf\u001b[0m\u001b[1;33m[\u001b[0m\u001b[1;34m'CAT_ID'\u001b[0m\u001b[1;33m]\u001b[0m \u001b[1;33m=\u001b[0m \u001b[0mcatid\u001b[0m\u001b[1;33m\u001b[0m\u001b[1;33m\u001b[0m\u001b[0m\n\u001b[0;32m      4\u001b[0m \u001b[0mtempDf\u001b[0m\u001b[1;33m[\u001b[0m\u001b[1;34m'MARKET_ID'\u001b[0m\u001b[1;33m]\u001b[0m \u001b[1;33m=\u001b[0m \u001b[1;36m13\u001b[0m\u001b[1;33m\u001b[0m\u001b[1;33m\u001b[0m\u001b[0m\n\u001b[0;32m      5\u001b[0m \u001b[1;33m\u001b[0m\u001b[0m\n",
      "\u001b[1;31mNameError\u001b[0m: name 'df' is not defined"
     ]
    }
   ],
   "source": [
    "tempDf = pd.DataFrame(columns=['PRODUCT','CAT_ID','MARKET_ID'])\n",
    "tempDf['PRODUCT'] = df['PRODUCT']\n",
    "tempDf['CAT_ID'] = catid\n",
    "tempDf['MARKET_ID'] = 13\n",
    "\n",
    "finalDf = pd.concat([finalDf,tempDf])"
   ]
  },
  {
   "cell_type": "code",
   "execution_count": null,
   "id": "27576779",
   "metadata": {},
   "outputs": [],
   "source": [
    "s3://timelapsestorage/$s3id/HIGH/$img"
   ]
  },
  {
   "cell_type": "code",
   "execution_count": null,
   "id": "e873a122",
   "metadata": {},
   "outputs": [],
   "source": [
    "s3://timelapsestorage/$s3id/HIGH/$img"
   ]
  },
  {
   "cell_type": "code",
   "execution_count": null,
   "id": "eee7778f",
   "metadata": {},
   "outputs": [],
   "source": [
    "l=liste[0]"
   ]
  },
  {
   "cell_type": "code",
   "execution_count": 184,
   "id": "3fd242cc",
   "metadata": {},
   "outputs": [
    {
     "data": {
      "text/plain": [
       "'2014f780d9b353abaa7bc635371f6394'"
      ]
     },
     "execution_count": 184,
     "metadata": {},
     "output_type": "execute_result"
    }
   ],
   "source": [
    "s3id=l['s3id']\n",
    "s3id"
   ]
  },
  {
   "cell_type": "code",
   "execution_count": 183,
   "id": "a54e2594",
   "metadata": {},
   "outputs": [
    {
     "data": {
      "text/plain": [
       "'2022_04_27_16_16_21'"
      ]
     },
     "execution_count": 183,
     "metadata": {},
     "output_type": "execute_result"
    }
   ],
   "source": [
    "img=l['img']\n",
    "img"
   ]
  },
  {
   "cell_type": "code",
   "execution_count": null,
   "id": "2b1e7d7a",
   "metadata": {},
   "outputs": [],
   "source": []
  }
 ],
 "metadata": {
  "kernelspec": {
   "display_name": "Python 3",
   "language": "python",
   "name": "python3"
  },
  "language_info": {
   "codemirror_mode": {
    "name": "ipython",
    "version": 3
   },
   "file_extension": ".py",
   "mimetype": "text/x-python",
   "name": "python",
   "nbconvert_exporter": "python",
   "pygments_lexer": "ipython3",
   "version": "3.8.8"
  }
 },
 "nbformat": 4,
 "nbformat_minor": 5
}
